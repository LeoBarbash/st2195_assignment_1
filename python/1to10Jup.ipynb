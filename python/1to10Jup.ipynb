{
 "cells": [
  {
   "cell_type": "markdown",
   "id": "b1f69488",
   "metadata": {},
   "source": [
    "# 1to10Jup\n",
    "### Lev Barbash\n",
    "### 22 05 2023"
   ]
  },
  {
   "cell_type": "markdown",
   "id": "15a62258",
   "metadata": {},
   "source": [
    "# Python\n",
    "Printing integers beetween 1 and 10 in Python:"
   ]
  },
  {
   "cell_type": "code",
   "execution_count": 2,
   "id": "43ae3f9e",
   "metadata": {},
   "outputs": [
    {
     "name": "stdout",
     "output_type": "stream",
     "text": [
      "1 2 3 4 5 6 7 8 9 10\n"
     ]
    }
   ],
   "source": [
    "print(*range(1, 11))"
   ]
  }
 ],
 "metadata": {
  "kernelspec": {
   "display_name": "Python 3 (ipykernel)",
   "language": "python",
   "name": "python3"
  },
  "language_info": {
   "codemirror_mode": {
    "name": "ipython",
    "version": 3
   },
   "file_extension": ".py",
   "mimetype": "text/x-python",
   "name": "python",
   "nbconvert_exporter": "python",
   "pygments_lexer": "ipython3",
   "version": "3.9.7"
  }
 },
 "nbformat": 4,
 "nbformat_minor": 5
}
