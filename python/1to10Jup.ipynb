{
 "cells": [
  {
   "cell_type": "markdown",
   "id": "c92de77f",
   "metadata": {},
   "source": [
    "# 1to10Jup\n",
    "### Lev Barbash\n",
    "### 22 05 2023"
   ]
  },
  {
   "cell_type": "markdown",
   "id": "66e4970f",
   "metadata": {},
   "source": [
    "# Python\n",
    "Printing integers beetween 1 and 10 in Python:"
   ]
  },
  {
   "cell_type": "code",
   "execution_count": 1,
   "id": "a2675369",
   "metadata": {},
   "outputs": [
    {
     "name": "stdout",
     "output_type": "stream",
     "text": [
      "1 2 3 4 5 6 7 8 9 10 "
     ]
    }
   ],
   "source": [
    "for n in range(1, 11):\n",
    "    print(n, end=' ')"
   ]
  }
 ],
 "metadata": {
  "kernelspec": {
   "display_name": "Python 3 (ipykernel)",
   "language": "python",
   "name": "python3"
  },
  "language_info": {
   "codemirror_mode": {
    "name": "ipython",
    "version": 3
   },
   "file_extension": ".py",
   "mimetype": "text/x-python",
   "name": "python",
   "nbconvert_exporter": "python",
   "pygments_lexer": "ipython3",
   "version": "3.9.7"
  }
 },
 "nbformat": 4,
 "nbformat_minor": 5
}
